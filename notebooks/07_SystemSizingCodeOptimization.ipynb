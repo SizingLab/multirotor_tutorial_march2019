{
 "cells": [
  {
   "cell_type": "markdown",
   "metadata": {
    "slideshow": {
     "slide_type": "slide"
    }
   },
   "source": [
    "<img src=\"./pictures/logo_sizinglab.png\" style=\"float:right; max-width: 60px; display: inline\" alt=\"SizingLab\" /></a>"
   ]
  },
  {
   "cell_type": "markdown",
   "metadata": {
    "slideshow": {
     "slide_type": "slide"
    }
   },
   "source": [
    "# Sizing of a multi-rotor drone\n",
    "\n",
    "*Written by Marc Budinger (INSA Toulouse) and Scott Delbecq (ISAE-SUPAERO), Toulouse, France.*"
   ]
  },
  {
   "cell_type": "markdown",
   "metadata": {},
   "source": [
    "The objective of this notebook is to select the best compromise of components (propeller, motor, ESC, battery) of a multi-rotor drone for given specifiations.\n",
    "\n",
    "**Scipy** and **math** packages will be used for this notebook in order to illustrate the optimization algorithms of python."
   ]
  },
  {
   "cell_type": "code",
   "execution_count": 1,
   "metadata": {},
   "outputs": [],
   "source": [
    "import scipy\n",
    "import scipy.optimize\n",
    "from math import pi\n",
    "from math import sqrt\n",
    "import math\n",
    "import timeit\n",
    "import pandas as pd\n",
    "from IPython.display import display, HTML\n",
    "pd.options.display.float_format = '{:,.2f}'.format"
   ]
  },
  {
   "cell_type": "markdown",
   "metadata": {
    "slideshow": {
     "slide_type": "slide"
    }
   },
   "source": [
    "## Sizing code"
   ]
  },
  {
   "cell_type": "markdown",
   "metadata": {
    "slideshow": {
     "slide_type": "slide"
    }
   },
   "source": [
    "The set of equations of a sizing code can generate typical issues such : \n",
    "- Underconstrained set of equations: the lacking equations can come from additional scenarios, estimation models or additional sizing variable.   \n",
    "- overconstrained equations often due to the selection of a component on multiple critera: the adding of over-sizing coefficients and constraints in the optimization problem can generally fix this issue   \n",
    "- algebraic loops often due to selection criteria requiring informations generally available after the selection \n",
    "\n",
    "Concerning overconstraints components, we have here:\n",
    "- Brushless motors with multiple torque and voltage constraints (hover and transient vertical displacement) \n",
    "\n",
    "Multiple algebraic loops appears in the sizing problem:\n",
    "- The thrust depends of the total mass which depend of components required for generating this thrust\n",
    "\n",
    "The final optimization problem depends thus of these parameters:\n",
    "- $\\beta_{pro}=pitch/diameter$ ratio to define the propeller\n",
    "- $k_{os}$ over sizing coefficient on the load mass to estimate the final total mass\n",
    "- $k_{mot}$ over sizing coeffcient on the motor torque to estimate the max torque with the hover flight conditions\n",
    "- $k_{speed,mot}$ over sizing coeffcient on the motor speed to take into account voltage limits during hover or take-off flight\n",
    "- $k_{ND}$ slow down propeller coef : ND = kNDmax / k_ND\n",
    "- $k_{D}$ aspect ratio e_arm/D_out_arm (thickness/diameter) for the beam of the frame\n",
    "- $k_{mb}$ ratio battery mass / payload mass\n",
    "- $k_{vb}$ over sizing coefficient for the battery voltage"
   ]
  },
  {
   "cell_type": "markdown",
   "metadata": {
    "slideshow": {
     "slide_type": "slide"
    }
   },
   "source": [
    "More details in the setting up of sizing code can be found in the  [following paper](https://www.researchgate.net/profile/Marc_Budinger/publication/277933677_Computer-aided_definition_of_sizing_procedures_and_optimization_problems_of_mechatronic_systems/links/55969de508ae793d137c7ea5/Computer-aided-definition-of-sizing-procedures-and-optimization-problems-of-mechatronic-systems.pdf):  \n",
    "\n",
    "> Reysset, A., Budinger, M., & Maré, J. C. (2015). Computer-aided definition of sizing procedures and optimization problems of mechatronic systems. Concurrent Engineering, 23(4), 320-332.\n",
    "\n",
    "The sizing code is defined here in a function which can give:\n",
    "- an evaluation of the objective: here the total mass\n",
    "- an evaluation of the constraints: \n",
    "\n",
    "Here is an non-exhaustive XDSM diagram of the multirotor sizing code:\n",
    "\n",
    "![XDSM](pictures/xdsm_multirotor_mdo.png)"
   ]
  },
  {
   "cell_type": "markdown",
   "metadata": {
    "slideshow": {
     "slide_type": "slide"
    }
   },
   "source": [
    "## Objectives and specifications\n",
    "\n",
    "Main specifications :\n",
    "- a load (video, control card) of mass $M_{load}$.  \n",
    "- an autonomy $t_{hf}$ for the hover flight.\n",
    "- an acceleration to take off $a_{to}$.\n"
   ]
  },
  {
   "cell_type": "code",
   "execution_count": 2,
   "metadata": {
    "slideshow": {
     "slide_type": "slide"
    }
   },
   "outputs": [],
   "source": [
    "# Specifications\n",
    "\n",
    "# Load\n",
    "M_pay = 50. # [kg] load mass\n",
    "\n",
    "# Acceleration during take off\n",
    "a_to = 1. * 9.81 # [m/s²] acceleration\n",
    "\n",
    "# Autonomy\n",
    "t_hov_spec = 25. # [min] time of hover flight\n",
    "\n",
    "# MTOW\n",
    "MTOW = 310. # [kg] maximal mass\n",
    "\n",
    "# Objectif\n",
    "MAX_TIME = True # Objective\n",
    "\n",
    "# Optimization bounds\n",
    "# beta, k_os, k_mot, k_speed_mot, k_ND, k_D, k_mb, k_vb\n",
    "opt_bounds = [(0.3,0.6), (1,10), (1,10), (1,10), (1,10), (0.05,.5), (.2,15), (1,5)]"
   ]
  },
  {
   "cell_type": "markdown",
   "metadata": {},
   "source": [
    "## Architecture defintion and design assumptions"
   ]
  },
  {
   "cell_type": "code",
   "execution_count": 3,
   "metadata": {},
   "outputs": [],
   "source": [
    "# Architecture of the multi-rotor drone (4,6, 8 arms, ...)\n",
    "N_arm = 4 # [-] number of arm\n",
    "N_pro_arm = 2 # [-] number of propeller per arm (1 or 2)\n",
    "N_pro = N_pro_arm * N_arm # [-] Propellers number"
   ]
  },
  {
   "cell_type": "code",
   "execution_count": 4,
   "metadata": {},
   "outputs": [],
   "source": [
    "from utils.model_serializer import ModelSerializer\n",
    "from utils.model_standard import CoreModel, Model"
   ]
  },
  {
   "cell_type": "code",
   "execution_count": 5,
   "metadata": {},
   "outputs": [],
   "source": [
    "# Loading models from .models directory\n",
    "ms = ModelSerializer()\n",
    "path = './models/'\n",
    "file_name = 'motor_model'\n",
    "motor_model = ms.load_model(path + file_name)\n",
    "file_name = 'propeller_model'\n",
    "propeller_model = ms.load_model(path + file_name)\n",
    "file_name = 'battery_esc_model'\n",
    "battery_esc_model = ms.load_model(path + file_name)\n",
    "file_name = 'frame_model'\n",
    "frame_model = ms.load_model(path + file_name)"
   ]
  },
  {
   "cell_type": "code",
   "execution_count": 6,
   "metadata": {
    "slideshow": {
     "slide_type": "slide"
    }
   },
   "outputs": [],
   "source": [
    "# -----------------------\n",
    "# sizing code\n",
    "# -----------------------\n",
    "# inputs: \n",
    "# - param: optimisation variables vector (reduction ratio, oversizing coefficient)\n",
    "# - arg: selection of output  \n",
    "# output: \n",
    "# - objective if arg='Obj', problem characteristics if arg='Prt', constraints other else\n",
    "class SizingCode(Model):\n",
    "    \n",
    "    def __init__(self, name, **kwargs):\n",
    "        super(SizingCode, self).__init__(name, **kwargs)\n",
    "        self.optimization_data_frame = pd.DataFrame()\n",
    "       \n",
    "    def initialization(self):\n",
    "        # Input variables\n",
    "        self.add_input('k_os', value=1.0, unit='-', comment='Over sizing coefficient on the load mass')\n",
    "        self.add_input('k_vb', value=1.0, unit='-', comment='Over sizing coefficient for the battery voltage')\n",
    "        self.add_input('t_hov_spec', value=10.0, unit='-', comment='Specified hovering time')\n",
    "        \n",
    "        # Output variables\n",
    "        self.add_output('M_total', unit='kg', comment='First total mass estimation of the multirotor')\n",
    "        self.add_output('M_total_real', unit='kg', comment='Effective total mass of the multirotor')\n",
    "\n",
    "        # Adding submodels\n",
    "        self.add_submodel(motor_model)\n",
    "        self.add_submodel(propeller_model)\n",
    "        self.add_submodel(battery_esc_model)\n",
    "        self.add_submodel(frame_model)\n",
    "        \n",
    "    def print_optimization(self):\n",
    "        # Functions that displays information related to the optimization\n",
    "        p = self.parameters\n",
    "        col_names = ['Type', 'Name', 'Min', 'Value', 'Max', 'Unit', 'Comment']\n",
    "        \n",
    "        df = self.optimization_data_frame\n",
    "        \n",
    "        # Design variables\n",
    "        df = df.append([{'Type': 'DV', 'Name': 'beta_pro', 'Min': opt_bounds[0][0], 'Value': p['beta_pro'], 'Max': opt_bounds[0][1], 'Unit': '[-]', 'Comment': 'pitch/diameter ratio of the propeller'}])[col_names]\n",
    "        df = df.append([{'Type': 'DV', 'Name': 'k_os', 'Min': opt_bounds[1][0], 'Value': p['k_os'], 'Max': opt_bounds[1][1], 'Unit': '[-]', 'Comment': 'over sizing coefficient on the load mass'}])\n",
    "        df = df.append([{'Type': 'DV', 'Name': 'k_mot', 'Min': opt_bounds[2][0], 'Value': p['k_mot'], 'Max': opt_bounds[2][1], 'Unit': '[-]', 'Comment': 'over sizing coefficient on the motor torque'}])\n",
    "        df = df.append([{'Type': 'DV', 'Name': 'k_speed_mot', 'Min': opt_bounds[3][0], 'Value': p['k_speed_mot'], 'Max': opt_bounds[3][1], 'Unit': '[-]', 'Comment': 'over sizing coefficient on the motor speed'}])\n",
    "        df = df.append([{'Type': 'DV', 'Name': 'k_ND', 'Min': opt_bounds[4][0], 'Value': p['k_ND'], 'Max': opt_bounds[4][1], 'Unit': '[-]', 'Comment': 'slow down propeller coef : ND = kNDmax / k_ND'}])\n",
    "        df = df.append([{'Type': 'DV', 'Name': 'k_D', 'Min': opt_bounds[5][0], 'Value': p['k_D'], 'Max': opt_bounds[5][1], 'Unit': '[-]', 'Comment': 'aspect ratio e_arm/D_out_arm (thickness/diameter) for the beam of the frame'}])\n",
    "        df = df.append([{'Type': 'DV', 'Name': 'k_mb', 'Min': opt_bounds[6][0], 'Value': p['k_mb'], 'Max': opt_bounds[6][1], 'Unit': '[-]', 'Comment': 'ratio battery / payload mass'}])\n",
    "        df = df.append([{'Type': 'DV', 'Name': 'k_vb', 'Min': opt_bounds[7][0], 'Value': p['k_vb'], 'Max': opt_bounds[7][1], 'Unit': '[-]', 'Comment': 'over sizing coefficient for the battery voltage'}])\n",
    "        \n",
    "        # Constraints\n",
    "        df = df.append([{'Type': 'CONSTR', 'Name': 'Constr 1', 'Min': 0.0, 'Value': p['M_total']-p['M_total_real'], 'Max': '-', 'Unit': '[kg]', 'Comment': 'Mass sizing loop'}])\n",
    "        df = df.append([{'Type': 'CONSTR', 'Name': 'Constr 2', 'Min': 0.0, 'Value': p['U_bat']-p['U_mot_to'], 'Max': '-', 'Unit': '[V]', 'Comment': 'Battery/Motor voltage'}])\n",
    "        df = df.append([{'Type': 'CONSTR', 'Name': 'Constr 3', 'Min': 0.0, 'Value': p['T_max_mot']-p['T_pro_to'], 'Max': '-', 'Unit': '[N.m]', 'Comment': 'Motor max torque'}])\n",
    "        df = df.append([{'Type': 'CONSTR', 'Name': 'Constr 4', 'Min': 0.0, 'Value': p['U_bat']-p['V_esc'], 'Max': '-', 'Unit': '[V]', 'Comment': 'Battery/ESC voltage'}])\n",
    "        \n",
    "        # Objective\n",
    "        df = df.append([{'Type': 'OBJ', 'Name': 't_hov', 'Min': '-', 'Value': p['t_hov'], 'Max': '-', 'Unit': '[min]', 'Comment': 'Hovering time (autonomy)'}])\n",
    "        display(df)\n",
    "        \n",
    "    def computation_script(self, param, arg):\n",
    "        p = self.parameters\n",
    "        \n",
    "        # Design variables\n",
    "        p['beta_pro'] = param[0] # pitch/diameter ratio of the propeller\n",
    "        p['k_os'] = param[1] # over sizing coefficient on the load mass \n",
    "        p['k_mot'] = param[2] # over sizing coefficient on the motor torque\n",
    "        p['k_speed_mot'] = param[3] # over sizing coefficient on the motor speed\n",
    "        p['k_ND'] = param[4] # slow down propeller coef : ND = kNDmax / k_ND\n",
    "        p['k_D'] = param[5] # aspect ratio e_arm/D_out_arm (thickness/diameter) for the beam of the frame\n",
    "        p['k_mb'] = param[6] # ratio battery / payload mass \n",
    "        p['k_vb'] = param[7] # over sizing coefficient for the battery voltage\n",
    "        \n",
    "        # Input parameters \n",
    "        p['M_pay'] = M_pay\n",
    "        p['a_to'] = a_to\n",
    "        p['t_hov_spec'] = t_hov_spec\n",
    "        p['MTOW'] = MTOW\n",
    "        p['N_arm'] = N_arm\n",
    "        p['N_pro_arm'] = N_pro_arm\n",
    "        p['N_pro'] = N_pro\n",
    " \n",
    "        # Hover & Take-Off thrust \n",
    "        p['M_total'] = p['k_os'] * p['M_pay'] # [kg] Estimation of the total mass (or equivalent weight of dynamic scenario)\n",
    "\n",
    "        p['F_pro_hov'] = p['M_total'] * (9.81) / p['N_pro'] # [N] Thrust per propeller for hover\n",
    "        p['F_pro_to'] = p['M_total'] * (9.81+ p['a_to']) / p['N_pro'] # [N] Thrust per propeller for take-off\n",
    "\n",
    "        # Propeller sizing\n",
    "        self.run_submodel('propeller')\n",
    "\n",
    "        # Battery voltage estimation with propeller power\n",
    "        p['U_bat_est'] = p['k_vb']*1.84*(p['P_pro_to'])**(0.36) # [V] battery voltage estimation\n",
    "\n",
    "        # Motor sizing\n",
    "        self.run_submodel('motor')\n",
    "\n",
    "        # Battery and ESC sizing  \n",
    "        self.run_submodel('battery_esc')\n",
    "\n",
    "        # Frame sizing\n",
    "        self.run_submodel('frame')\n",
    "\n",
    "        # Objective and Constraints sum up\n",
    "        p['M_total_real'] = (p['M_esc']+p['M_pro']+p['M_mot'])*p['N_pro']+p['M_pay']+p['M_bat']+p['M_frame']\n",
    "\n",
    "        if MAX_TIME == True:\n",
    "            constraints = [p['M_total']-p['M_total_real'], p['U_bat']-p['U_mot_to'], p['T_max_mot']-p['T_pro_to'], p['U_bat']-p['V_esc'], p['MTOW']-p['M_total_real']]\n",
    "        else:\n",
    "            constraints = [p['M_total']-p['M_total_real'], p['U_bat']-p['U_mot_to'], p['T_max_mot']-p['T_pro_to'], p['U_bat']-p['V_esc'], p['t_hov']-p['t_hov_spec']]\n",
    "\n",
    "        # Objective and contraints\n",
    "        if arg == 'Obj':\n",
    "            if MAX_TIME == True:\n",
    "                return 1./p['t_hov'] # for time maximisation\n",
    "            else:\n",
    "                return p['M_total_real'] # for mass optimisation\n",
    "            \n",
    "         # Objective and contraints\n",
    "        if arg == 'ObjP':\n",
    "            P = 0. # Penalisation nulle\n",
    "            for C in constraints: \n",
    "                if (C < 0.): \n",
    "                    P = P-1e9*C\n",
    "            if MAX_TIME==True:\n",
    "                return 1./p['t_hov'] + P # for time maximisation\n",
    "            else:\n",
    "                return p['M_total_real'] + P # for mass optimisation       \n",
    "        else:\n",
    "            return constraints\n"
   ]
  },
  {
   "cell_type": "markdown",
   "metadata": {
    "slideshow": {
     "slide_type": "slide"
    }
   },
   "source": [
    "## Optimization problem\n"
   ]
  },
  {
   "cell_type": "markdown",
   "metadata": {},
   "source": [
    "We will now use the [optimization algorithms](https://docs.scipy.org/doc/scipy/reference/optimize.html) of the Scipy package to solve and optimize the configuration. We use here the SLSQP algorithm without explicit expression of the gradient (Jacobian). A course on Multidisplinary Gradient optimization algorithms and gradient optimization algorithm is given [here](http://mdolab.engin.umich.edu/sites/default/files/Martins-MDO-course-notes.pdf):\n",
    "> Joaquim R. R. A. Martins (2012). A Short Course on Multidisciplinary Design Optimization. University of Michigan\n"
   ]
  },
  {
   "cell_type": "markdown",
   "metadata": {},
   "source": [
    "The first step is to give an initial value of optimisation variables:"
   ]
  },
  {
   "cell_type": "code",
   "execution_count": 7,
   "metadata": {},
   "outputs": [],
   "source": [
    "# Optimisation variables\n",
    "beta_pro = .33 # pitch/diameter ratio of the propeller\n",
    "k_os = 3.2 # over sizing coefficient on the load mass \n",
    "k_mot = 1. # over sizing coefficient on the motor torque\n",
    "k_speed_mot = 1.2 # adaption winding coef on the motor speed\n",
    "k_ND = 1. # reduction of product speed.diameter on the propeller\n",
    "k_D = .01 # aspect ratio e/c (thickness/side) for the beam of the frame\n",
    "k_mb = 1. # ratio battery/load mass\n",
    "k_vb = 1. # oversizing coefficient for voltage evaluation\n",
    "\n",
    "# Vector of parameters\n",
    "parameters = scipy.array((beta_pro, k_os, k_mot, k_speed_mot, k_ND, k_D, k_mb, k_vb))"
   ]
  },
  {
   "cell_type": "markdown",
   "metadata": {
    "slideshow": {
     "slide_type": "slide"
    }
   },
   "source": [
    "We can print of the characterisitcs of the problem before optimization with the initial vector of optimization variables:"
   ]
  },
  {
   "cell_type": "code",
   "execution_count": 8,
   "metadata": {},
   "outputs": [
    {
     "name": "stdout",
     "output_type": "stream",
     "text": [
      "-----------------------------------------------\n",
      "Initial characteristics before optimization :\n"
     ]
    },
    {
     "data": {
      "text/html": [
       "<div>\n",
       "<style scoped>\n",
       "    .dataframe tbody tr th:only-of-type {\n",
       "        vertical-align: middle;\n",
       "    }\n",
       "\n",
       "    .dataframe tbody tr th {\n",
       "        vertical-align: top;\n",
       "    }\n",
       "\n",
       "    .dataframe thead th {\n",
       "        text-align: right;\n",
       "    }\n",
       "</style>\n",
       "<table border=\"1\" class=\"dataframe\">\n",
       "  <thead>\n",
       "    <tr style=\"text-align: right;\">\n",
       "      <th></th>\n",
       "      <th>Type</th>\n",
       "      <th>Name</th>\n",
       "      <th>Min</th>\n",
       "      <th>Value</th>\n",
       "      <th>Max</th>\n",
       "      <th>Unit</th>\n",
       "      <th>Comment</th>\n",
       "    </tr>\n",
       "  </thead>\n",
       "  <tbody>\n",
       "    <tr>\n",
       "      <th>0</th>\n",
       "      <td>DV</td>\n",
       "      <td>beta_pro</td>\n",
       "      <td>0.30</td>\n",
       "      <td>0.33</td>\n",
       "      <td>0.60</td>\n",
       "      <td>[-]</td>\n",
       "      <td>pitch/diameter ratio of the propeller</td>\n",
       "    </tr>\n",
       "    <tr>\n",
       "      <th>0</th>\n",
       "      <td>DV</td>\n",
       "      <td>k_os</td>\n",
       "      <td>1.00</td>\n",
       "      <td>3.20</td>\n",
       "      <td>10.00</td>\n",
       "      <td>[-]</td>\n",
       "      <td>over sizing coefficient on the load mass</td>\n",
       "    </tr>\n",
       "    <tr>\n",
       "      <th>0</th>\n",
       "      <td>DV</td>\n",
       "      <td>k_mot</td>\n",
       "      <td>1.00</td>\n",
       "      <td>1.00</td>\n",
       "      <td>10.00</td>\n",
       "      <td>[-]</td>\n",
       "      <td>over sizing coefficient on the motor torque</td>\n",
       "    </tr>\n",
       "    <tr>\n",
       "      <th>0</th>\n",
       "      <td>DV</td>\n",
       "      <td>k_speed_mot</td>\n",
       "      <td>1.00</td>\n",
       "      <td>1.20</td>\n",
       "      <td>10.00</td>\n",
       "      <td>[-]</td>\n",
       "      <td>over sizing coefficient on the motor speed</td>\n",
       "    </tr>\n",
       "    <tr>\n",
       "      <th>0</th>\n",
       "      <td>DV</td>\n",
       "      <td>k_ND</td>\n",
       "      <td>1.00</td>\n",
       "      <td>1.00</td>\n",
       "      <td>10.00</td>\n",
       "      <td>[-]</td>\n",
       "      <td>slow down propeller coef : ND = kNDmax / k_ND</td>\n",
       "    </tr>\n",
       "    <tr>\n",
       "      <th>0</th>\n",
       "      <td>DV</td>\n",
       "      <td>k_D</td>\n",
       "      <td>0.05</td>\n",
       "      <td>0.01</td>\n",
       "      <td>0.50</td>\n",
       "      <td>[-]</td>\n",
       "      <td>aspect ratio e_arm/D_out_arm (thickness/diamet...</td>\n",
       "    </tr>\n",
       "    <tr>\n",
       "      <th>0</th>\n",
       "      <td>DV</td>\n",
       "      <td>k_mb</td>\n",
       "      <td>0.20</td>\n",
       "      <td>1.00</td>\n",
       "      <td>15.00</td>\n",
       "      <td>[-]</td>\n",
       "      <td>ratio battery / payload mass</td>\n",
       "    </tr>\n",
       "    <tr>\n",
       "      <th>0</th>\n",
       "      <td>DV</td>\n",
       "      <td>k_vb</td>\n",
       "      <td>1.00</td>\n",
       "      <td>1.00</td>\n",
       "      <td>5.00</td>\n",
       "      <td>[-]</td>\n",
       "      <td>over sizing coefficient for the battery voltage</td>\n",
       "    </tr>\n",
       "    <tr>\n",
       "      <th>0</th>\n",
       "      <td>CONSTR</td>\n",
       "      <td>Constr 1</td>\n",
       "      <td>0.00</td>\n",
       "      <td>16.59</td>\n",
       "      <td>-</td>\n",
       "      <td>[kg]</td>\n",
       "      <td>Mass sizing loop</td>\n",
       "    </tr>\n",
       "    <tr>\n",
       "      <th>0</th>\n",
       "      <td>CONSTR</td>\n",
       "      <td>Constr 2</td>\n",
       "      <td>0.00</td>\n",
       "      <td>-2.51</td>\n",
       "      <td>-</td>\n",
       "      <td>[V]</td>\n",
       "      <td>Battery/Motor voltage</td>\n",
       "    </tr>\n",
       "    <tr>\n",
       "      <th>0</th>\n",
       "      <td>CONSTR</td>\n",
       "      <td>Constr 3</td>\n",
       "      <td>0.00</td>\n",
       "      <td>-15.88</td>\n",
       "      <td>-</td>\n",
       "      <td>[N.m]</td>\n",
       "      <td>Motor max torque</td>\n",
       "    </tr>\n",
       "    <tr>\n",
       "      <th>0</th>\n",
       "      <td>CONSTR</td>\n",
       "      <td>Constr 4</td>\n",
       "      <td>0.00</td>\n",
       "      <td>-0.52</td>\n",
       "      <td>-</td>\n",
       "      <td>[V]</td>\n",
       "      <td>Battery/ESC voltage</td>\n",
       "    </tr>\n",
       "    <tr>\n",
       "      <th>0</th>\n",
       "      <td>OBJ</td>\n",
       "      <td>t_hov</td>\n",
       "      <td>-</td>\n",
       "      <td>19.18</td>\n",
       "      <td>-</td>\n",
       "      <td>[min]</td>\n",
       "      <td>Hovering time (autonomy)</td>\n",
       "    </tr>\n",
       "  </tbody>\n",
       "</table>\n",
       "</div>"
      ],
      "text/plain": [
       "     Type         Name  Min  Value   Max   Unit  \\\n",
       "0      DV     beta_pro 0.30   0.33  0.60    [-]   \n",
       "0      DV         k_os 1.00   3.20 10.00    [-]   \n",
       "0      DV        k_mot 1.00   1.00 10.00    [-]   \n",
       "0      DV  k_speed_mot 1.00   1.20 10.00    [-]   \n",
       "0      DV         k_ND 1.00   1.00 10.00    [-]   \n",
       "0      DV          k_D 0.05   0.01  0.50    [-]   \n",
       "0      DV         k_mb 0.20   1.00 15.00    [-]   \n",
       "0      DV         k_vb 1.00   1.00  5.00    [-]   \n",
       "0  CONSTR     Constr 1 0.00  16.59     -   [kg]   \n",
       "0  CONSTR     Constr 2 0.00  -2.51     -    [V]   \n",
       "0  CONSTR     Constr 3 0.00 -15.88     -  [N.m]   \n",
       "0  CONSTR     Constr 4 0.00  -0.52     -    [V]   \n",
       "0     OBJ        t_hov    -  19.18     -  [min]   \n",
       "\n",
       "                                             Comment  \n",
       "0              pitch/diameter ratio of the propeller  \n",
       "0           over sizing coefficient on the load mass  \n",
       "0        over sizing coefficient on the motor torque  \n",
       "0         over sizing coefficient on the motor speed  \n",
       "0      slow down propeller coef : ND = kNDmax / k_ND  \n",
       "0  aspect ratio e_arm/D_out_arm (thickness/diamet...  \n",
       "0                       ratio battery / payload mass  \n",
       "0    over sizing coefficient for the battery voltage  \n",
       "0                                   Mass sizing loop  \n",
       "0                              Battery/Motor voltage  \n",
       "0                                   Motor max torque  \n",
       "0                                Battery/ESC voltage  \n",
       "0                           Hovering time (autonomy)  "
      ]
     },
     "metadata": {},
     "output_type": "display_data"
    },
    {
     "data": {
      "application/vnd.jupyter.widget-view+json": {
       "model_id": "bdbecf89621246cb9d4f092600548b9a",
       "version_major": 2,
       "version_minor": 0
      },
      "text/plain": [
       "interactive(children=(Dropdown(description='Component', options=('multirotor', 'battery_esc', 'propeller', 'fr…"
      ]
     },
     "metadata": {},
     "output_type": "display_data"
    },
    {
     "name": "stdout",
     "output_type": "stream",
     "text": [
      "-----------------------------------------------\n"
     ]
    }
   ],
   "source": [
    "# Initial characteristics before optimization \n",
    "print(\"-----------------------------------------------\")\n",
    "print(\"Initial characteristics before optimization :\")\n",
    "\n",
    "sizing_code = SizingCode('multirotor')\n",
    "sizing_code.initialization()\n",
    "\n",
    "objectif = sizing_code.computation_script(parameters, 'Obj')\n",
    "sizing_code.print_optimization()\n",
    "sizing_code.print_variables()\n",
    "print(\"-----------------------------------------------\")"
   ]
  },
  {
   "cell_type": "markdown",
   "metadata": {
    "slideshow": {
     "slide_type": "slide"
    }
   },
   "source": [
    "Then we can solve the problem and print of the optimized solution:"
   ]
  },
  {
   "cell_type": "code",
   "execution_count": 9,
   "metadata": {
    "scrolled": true
   },
   "outputs": [
    {
     "name": "stdout",
     "output_type": "stream",
     "text": [
      "-----------------------------------------------\n",
      "Final characteristics after optimization :\n"
     ]
    },
    {
     "data": {
      "text/html": [
       "<div>\n",
       "<style scoped>\n",
       "    .dataframe tbody tr th:only-of-type {\n",
       "        vertical-align: middle;\n",
       "    }\n",
       "\n",
       "    .dataframe tbody tr th {\n",
       "        vertical-align: top;\n",
       "    }\n",
       "\n",
       "    .dataframe thead th {\n",
       "        text-align: right;\n",
       "    }\n",
       "</style>\n",
       "<table border=\"1\" class=\"dataframe\">\n",
       "  <thead>\n",
       "    <tr style=\"text-align: right;\">\n",
       "      <th></th>\n",
       "      <th>Type</th>\n",
       "      <th>Name</th>\n",
       "      <th>Min</th>\n",
       "      <th>Value</th>\n",
       "      <th>Max</th>\n",
       "      <th>Unit</th>\n",
       "      <th>Comment</th>\n",
       "    </tr>\n",
       "  </thead>\n",
       "  <tbody>\n",
       "    <tr>\n",
       "      <th>0</th>\n",
       "      <td>DV</td>\n",
       "      <td>beta_pro</td>\n",
       "      <td>0.30</td>\n",
       "      <td>0.30</td>\n",
       "      <td>0.60</td>\n",
       "      <td>[-]</td>\n",
       "      <td>pitch/diameter ratio of the propeller</td>\n",
       "    </tr>\n",
       "    <tr>\n",
       "      <th>0</th>\n",
       "      <td>DV</td>\n",
       "      <td>k_os</td>\n",
       "      <td>1.00</td>\n",
       "      <td>6.20</td>\n",
       "      <td>10.00</td>\n",
       "      <td>[-]</td>\n",
       "      <td>over sizing coefficient on the load mass</td>\n",
       "    </tr>\n",
       "    <tr>\n",
       "      <th>0</th>\n",
       "      <td>DV</td>\n",
       "      <td>k_mot</td>\n",
       "      <td>1.00</td>\n",
       "      <td>1.65</td>\n",
       "      <td>10.00</td>\n",
       "      <td>[-]</td>\n",
       "      <td>over sizing coefficient on the motor torque</td>\n",
       "    </tr>\n",
       "    <tr>\n",
       "      <th>0</th>\n",
       "      <td>DV</td>\n",
       "      <td>k_speed_mot</td>\n",
       "      <td>1.00</td>\n",
       "      <td>1.09</td>\n",
       "      <td>10.00</td>\n",
       "      <td>[-]</td>\n",
       "      <td>over sizing coefficient on the motor speed</td>\n",
       "    </tr>\n",
       "    <tr>\n",
       "      <th>0</th>\n",
       "      <td>DV</td>\n",
       "      <td>k_ND</td>\n",
       "      <td>1.00</td>\n",
       "      <td>1.00</td>\n",
       "      <td>10.00</td>\n",
       "      <td>[-]</td>\n",
       "      <td>slow down propeller coef : ND = kNDmax / k_ND</td>\n",
       "    </tr>\n",
       "    <tr>\n",
       "      <th>0</th>\n",
       "      <td>DV</td>\n",
       "      <td>k_D</td>\n",
       "      <td>0.05</td>\n",
       "      <td>0.05</td>\n",
       "      <td>0.50</td>\n",
       "      <td>[-]</td>\n",
       "      <td>aspect ratio e_arm/D_out_arm (thickness/diamet...</td>\n",
       "    </tr>\n",
       "    <tr>\n",
       "      <th>0</th>\n",
       "      <td>DV</td>\n",
       "      <td>k_mb</td>\n",
       "      <td>0.20</td>\n",
       "      <td>2.12</td>\n",
       "      <td>15.00</td>\n",
       "      <td>[-]</td>\n",
       "      <td>ratio battery / payload mass</td>\n",
       "    </tr>\n",
       "    <tr>\n",
       "      <th>0</th>\n",
       "      <td>DV</td>\n",
       "      <td>k_vb</td>\n",
       "      <td>1.00</td>\n",
       "      <td>1.05</td>\n",
       "      <td>5.00</td>\n",
       "      <td>[-]</td>\n",
       "      <td>over sizing coefficient for the battery voltage</td>\n",
       "    </tr>\n",
       "    <tr>\n",
       "      <th>0</th>\n",
       "      <td>CONSTR</td>\n",
       "      <td>Constr 1</td>\n",
       "      <td>0.00</td>\n",
       "      <td>0.00</td>\n",
       "      <td>-</td>\n",
       "      <td>[kg]</td>\n",
       "      <td>Mass sizing loop</td>\n",
       "    </tr>\n",
       "    <tr>\n",
       "      <th>0</th>\n",
       "      <td>CONSTR</td>\n",
       "      <td>Constr 2</td>\n",
       "      <td>0.00</td>\n",
       "      <td>0.00</td>\n",
       "      <td>-</td>\n",
       "      <td>[V]</td>\n",
       "      <td>Battery/Motor voltage</td>\n",
       "    </tr>\n",
       "    <tr>\n",
       "      <th>0</th>\n",
       "      <td>CONSTR</td>\n",
       "      <td>Constr 3</td>\n",
       "      <td>0.00</td>\n",
       "      <td>0.00</td>\n",
       "      <td>-</td>\n",
       "      <td>[N.m]</td>\n",
       "      <td>Motor max torque</td>\n",
       "    </tr>\n",
       "    <tr>\n",
       "      <th>0</th>\n",
       "      <td>CONSTR</td>\n",
       "      <td>Constr 4</td>\n",
       "      <td>0.00</td>\n",
       "      <td>4.40</td>\n",
       "      <td>-</td>\n",
       "      <td>[V]</td>\n",
       "      <td>Battery/ESC voltage</td>\n",
       "    </tr>\n",
       "    <tr>\n",
       "      <th>0</th>\n",
       "      <td>OBJ</td>\n",
       "      <td>t_hov</td>\n",
       "      <td>-</td>\n",
       "      <td>24.61</td>\n",
       "      <td>-</td>\n",
       "      <td>[min]</td>\n",
       "      <td>Hovering time (autonomy)</td>\n",
       "    </tr>\n",
       "  </tbody>\n",
       "</table>\n",
       "</div>"
      ],
      "text/plain": [
       "     Type         Name  Min  Value   Max   Unit  \\\n",
       "0      DV     beta_pro 0.30   0.30  0.60    [-]   \n",
       "0      DV         k_os 1.00   6.20 10.00    [-]   \n",
       "0      DV        k_mot 1.00   1.65 10.00    [-]   \n",
       "0      DV  k_speed_mot 1.00   1.09 10.00    [-]   \n",
       "0      DV         k_ND 1.00   1.00 10.00    [-]   \n",
       "0      DV          k_D 0.05   0.05  0.50    [-]   \n",
       "0      DV         k_mb 0.20   2.12 15.00    [-]   \n",
       "0      DV         k_vb 1.00   1.05  5.00    [-]   \n",
       "0  CONSTR     Constr 1 0.00   0.00     -   [kg]   \n",
       "0  CONSTR     Constr 2 0.00   0.00     -    [V]   \n",
       "0  CONSTR     Constr 3 0.00   0.00     -  [N.m]   \n",
       "0  CONSTR     Constr 4 0.00   4.40     -    [V]   \n",
       "0     OBJ        t_hov    -  24.61     -  [min]   \n",
       "\n",
       "                                             Comment  \n",
       "0              pitch/diameter ratio of the propeller  \n",
       "0           over sizing coefficient on the load mass  \n",
       "0        over sizing coefficient on the motor torque  \n",
       "0         over sizing coefficient on the motor speed  \n",
       "0      slow down propeller coef : ND = kNDmax / k_ND  \n",
       "0  aspect ratio e_arm/D_out_arm (thickness/diamet...  \n",
       "0                       ratio battery / payload mass  \n",
       "0    over sizing coefficient for the battery voltage  \n",
       "0                                   Mass sizing loop  \n",
       "0                              Battery/Motor voltage  \n",
       "0                                   Motor max torque  \n",
       "0                                Battery/ESC voltage  \n",
       "0                           Hovering time (autonomy)  "
      ]
     },
     "metadata": {},
     "output_type": "display_data"
    },
    {
     "data": {
      "application/vnd.jupyter.widget-view+json": {
       "model_id": "fe2653f57fea4433955fe4d89071b8dd",
       "version_major": 2,
       "version_minor": 0
      },
      "text/plain": [
       "interactive(children=(Dropdown(description='Component', options=('multirotor', 'battery_esc', 'propeller', 'fr…"
      ]
     },
     "metadata": {},
     "output_type": "display_data"
    },
    {
     "name": "stdout",
     "output_type": "stream",
     "text": [
      "-----------------------------------------------\n"
     ]
    }
   ],
   "source": [
    "# Optimization with SLSQP algorithm\n",
    "contrainte = lambda x: sizing_code.computation_script(x, 'Const')\n",
    "objectif = lambda x: sizing_code.computation_script(x, 'Obj')\n",
    "objectifP = lambda x: sizing_code.computation_script(x, 'ObjP')\n",
    "\n",
    "SLSQP = False # Optimization algorithm choice\n",
    "\n",
    "if SLSQP == True:\n",
    "    # SLSQP omptimisation\n",
    "    result = scipy.optimize.fmin_slsqp(func=objectif, x0=parameters, \n",
    "                                   bounds=opt_bounds,\n",
    "                                   f_ieqcons=contrainte, iter=1500, acc=1e-12)\n",
    "else:\n",
    "    # Differential evolution omptimisation\n",
    "    result = scipy.optimize.differential_evolution(func=objectifP,\n",
    "                                   bounds=opt_bounds,\n",
    "                                   tol=1e-12)\n",
    "\n",
    "# Final characteristics after optimization \n",
    "print(\"-----------------------------------------------\")\n",
    "print(\"Final characteristics after optimization :\")\n",
    "\n",
    "if SLSQP == True:\n",
    "    sizing_code.computation_script(result,'Obj')\n",
    "    sizing_code.print_optimization()\n",
    "    sizing_code.print_variables()\n",
    "else:\n",
    "    sizing_code.print_optimization()\n",
    "    sizing_code.print_variables()\n",
    "print(\"-----------------------------------------------\")\n",
    "\n"
   ]
  },
  {
   "cell_type": "code",
   "execution_count": null,
   "metadata": {},
   "outputs": [],
   "source": []
  }
 ],
 "metadata": {
  "kernelspec": {
   "display_name": "Python 3",
   "language": "python",
   "name": "python3"
  },
  "language_info": {
   "codemirror_mode": {
    "name": "ipython",
    "version": 3
   },
   "file_extension": ".py",
   "mimetype": "text/x-python",
   "name": "python",
   "nbconvert_exporter": "python",
   "pygments_lexer": "ipython3",
   "version": "3.6.5"
  }
 },
 "nbformat": 4,
 "nbformat_minor": 2
}
