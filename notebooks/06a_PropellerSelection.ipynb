{
 "cells": [
  {
   "cell_type": "markdown",
   "metadata": {
    "slideshow": {
     "slide_type": "slide"
    }
   },
   "source": [
    "<img src=\"./pictures/logo_sizinglab.png\" style=\"float:right; max-width: 60px; display: inline\" alt=\"SizingLab\" /></a>"
   ]
  },
  {
   "cell_type": "markdown",
   "metadata": {
    "slideshow": {
     "slide_type": "slide"
    }
   },
   "source": [
    "# Propeller selection\n",
    "*Written by Marc Budinger (INSA Toulouse) and Scott Delbecq (ISAE-SUPAERO), Toulouse, France.*"
   ]
  },
  {
   "cell_type": "markdown",
   "metadata": {
    "slideshow": {
     "slide_type": "slide"
    }
   },
   "source": [
    "## Design graph \n",
    "\n",
    "The following diagram represents the design graph of the propeller’s selection. The max thrust is assumed to be known here.\n",
    "\n",
    "\n",
    "![DesignGraph](pictures/PropellerDesignGraph.png)\n",
    "\n",
    "> **Questions:**\n",
    "* Give the main sizing problems you are able to detect.\n",
    "* Propose one or multiple solutions (which can request equation manipulation, addition of design variables, addition of constraints) \n",
    "* Orientate the arrows\n",
    "* Give equations order, inputs/outputs at each step of this part of sizing procedure\n",
    "\n"
   ]
  },
  {
   "cell_type": "markdown",
   "metadata": {},
   "source": [
    "### Sizing code and optimization\n",
    "\n",
    "> Exercice: propose a sizing code for the selection of a propeller.\n"
   ]
  },
  {
   "cell_type": "code",
   "execution_count": 1,
   "metadata": {},
   "outputs": [],
   "source": [
    "from math import pi, sqrt\n",
    "from utils.model_standard import CoreModel\n",
    "from utils.model_serializer import ModelSerializer"
   ]
  },
  {
   "cell_type": "code",
   "execution_count": 2,
   "metadata": {},
   "outputs": [],
   "source": [
    "class PropellerModel(CoreModel):\n",
    "    \"\"\"\n",
    "    Propeller model class.\n",
    "    ----------\n",
    "    \"\"\"\n",
    "\n",
    "    def initialization(self):\n",
    "        \n",
    "        # Input variables        \n",
    "        self.add_input('k_ND', value=1.0, unit='-', comment='Ratio ND/NDmax')\n",
    "        self.add_input('F_pro_to', value=15.0, unit='N', comment='Thrust for 1 propeller during Take Off')\n",
    "        self.add_input('beta_pro', value=15.0, unit='-', comment='pitch/diameter ratio of the propeller')\n",
    "        self.add_input('F_pro_hov', value=5.0, unit='-', comment='Thrust for 1 propeller during Hover')\n",
    "        \n",
    "        # Input parameters\n",
    "        self.add_input('rho_air', value=1.18, unit='kg/m^3', comment='Air density')\n",
    "        self.add_input('ND_max', value=105000./60.*.0254, unit='Hz.m', comment='Max speed limit (N.D max)')\n",
    "        self.add_input('D_pro_ref', value=11.*.0254, unit='m', comment='Reference propeller diameter')\n",
    "        self.add_input('M_pro_ref', value=0.53*0.0283, unit='kg', comment='Reference propeller mass')\n",
    "               \n",
    "        # Declare outputs    \n",
    "        self.add_output('C_t', unit='-', comment='Thrust coefficient of the propeller')\n",
    "        self.add_output('C_p', unit='-', comment='Power coefficient of the propeller')\n",
    "        self.add_output('D_pro', unit='m', comment='Diameter of the propeller')\n",
    "        self.add_output('n_pro_to', unit='Hz', comment='Rev speed of the propeller during takeoff')\n",
    "        self.add_output('Omega_pro_to', unit='rad/s', comment='Rev speed of the propeller during takeoff')\n",
    "        self.add_output('M_pro', unit='kg', comment='Mass of the propeller')\n",
    "        self.add_output('P_pro_to', unit='W', comment='Power on the mechanical shaft of the propeller during takeoff')\n",
    "        self.add_output('T_pro_to', unit='N.m', comment='Torque on the mechanical shaft of the propeller during takeoff')\n",
    "        self.add_output('n_pro_hov', unit='Hz', comment='Rev speed of the propeller during hover')\n",
    "        self.add_output('Omega_pro_hov', unit='rad/s', comment='Rev speed of the propeller during hover')\n",
    "        self.add_output('P_pro_hov', unit='W', comment='Power on the mechanical shaft of the propeller during hover')\n",
    "        self.add_output('T_pro_hov', unit='N.m', comment='Torque on the mechanical shaft of the propeller during hover')\n",
    "        \n",
    "    def computation_script(self):\n",
    "        \n",
    "        p = self.parameters\n",
    "\n",
    "        p['C_t'] = (4.27e-02 + 1.44e-01 * p['beta_pro']) * 0.8 # Thrust coef with T=C_T.rho.n^2.D^4 - 0.8 for de-rating of APC catalog\n",
    "        p['C_p'] = -1.48e-03 + 9.72e-02 * p['beta_pro']  # Power coef with P=C_p.rho.n^3.D^5\n",
    "\n",
    "        # Propeller selection with take-off scenario\n",
    "        p['D_pro'] = (p['F_pro_to'] / (p['C_t']*p['rho_air']*(p['ND_max']/p['k_ND'])**2.))**0.5  # [m] Propeller diameter\n",
    "        p['n_pro_to'] = p['ND_max'] / p['k_ND'] / p['D_pro'] # [Hz] Propeller speed \n",
    "        p['Omega_pro_to'] = p['n_pro_to'] * 2*pi # [rad/s] Propeller speed\n",
    "\n",
    "        p['M_pro'] = p['M_pro_ref'] * (p['D_pro']/p['D_pro_ref'])**2. # [kg] Propeller mass\n",
    "\n",
    "        p['P_pro_to'] = p['C_p'] * p['rho_air'] * p['n_pro_to']**3. * p['D_pro']**5. # [W] Power per propeller\n",
    "        p['T_pro_to'] = p['P_pro_to'] / p['Omega_pro_to'] # [N.m] Propeller torque\n",
    "\n",
    "        # Propeller torque & speed for hover\n",
    "        p['n_pro_hov'] = sqrt(p['F_pro_hov']/(p['C_t'] * p['rho_air'] *p['D_pro']**4.)) # [Hz] hover speed\n",
    "        p['Omega_pro_hov'] = p['n_pro_hov'] * 2.*pi # [rad/s] Propeller speed\n",
    "\n",
    "        p['P_pro_hov'] = p['C_p'] * p['rho_air'] * p['n_pro_hov']**3. * p['D_pro']**5. # [W] Power per propeller\n",
    "        p['T_pro_hov'] = p['P_pro_hov'] / p['Omega_pro_hov'] # [N.m] Propeller torque       "
   ]
  },
  {
   "cell_type": "code",
   "execution_count": 3,
   "metadata": {},
   "outputs": [
    {
     "data": {
      "application/vnd.jupyter.widget-view+json": {
       "model_id": "2177954dbe31404da0790173aa317c52",
       "version_major": 2,
       "version_minor": 0
      },
      "text/plain": [
       "interactive(children=(Dropdown(description='Component', options=('propeller',), value='propeller'), Output()),…"
      ]
     },
     "metadata": {},
     "output_type": "display_data"
    }
   ],
   "source": [
    "propeller_model = PropellerModel('propeller')\n",
    "propeller_model.initialization()\n",
    "\n",
    "propeller_model.print_variables()\n",
    "\n",
    "ms = ModelSerializer()\n",
    "path = './models/'\n",
    "file_name = 'propeller_model'\n",
    "ms.save_model(propeller_model, path + file_name)"
   ]
  },
  {
   "cell_type": "code",
   "execution_count": 4,
   "metadata": {},
   "outputs": [
    {
     "data": {
      "application/vnd.jupyter.widget-view+json": {
       "model_id": "9531b793280f4e8dbdc94b7bfae55a25",
       "version_major": 2,
       "version_minor": 0
      },
      "text/plain": [
       "interactive(children=(Dropdown(description='Component', options=('propeller',), value='propeller'), Output()),…"
      ]
     },
     "metadata": {},
     "output_type": "display_data"
    }
   ],
   "source": [
    "inputs = {'T_pro_to': 25.0}\n",
    "\n",
    "propeller_model.compute(inputs)\n",
    "\n",
    "propeller_model.print_variables()"
   ]
  },
  {
   "cell_type": "code",
   "execution_count": null,
   "metadata": {},
   "outputs": [],
   "source": []
  }
 ],
 "metadata": {
  "kernelspec": {
   "display_name": "Python 3",
   "language": "python",
   "name": "python3"
  },
  "language_info": {
   "codemirror_mode": {
    "name": "ipython",
    "version": 3
   },
   "file_extension": ".py",
   "mimetype": "text/x-python",
   "name": "python",
   "nbconvert_exporter": "python",
   "pygments_lexer": "ipython3",
   "version": "3.6.5"
  }
 },
 "nbformat": 4,
 "nbformat_minor": 2
}
