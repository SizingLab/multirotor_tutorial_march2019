{
 "cells": [
  {
   "cell_type": "markdown",
   "metadata": {
    "slideshow": {
     "slide_type": "slide"
    }
   },
   "source": [
    "<img src=\"./pictures/logo_sizinglab.png\" style=\"float:right; max-width: 60px; display: inline\" alt=\"SizingLab\" /></a>"
   ]
  },
  {
   "cell_type": "markdown",
   "metadata": {
    "slideshow": {
     "slide_type": "slide"
    }
   },
   "source": [
    "# Motor selection\n",
    "*Written by Marc Budinger (INSA Toulouse) and Scott Delbecq (ISAE-SUPAERO), Toulouse, France.*"
   ]
  },
  {
   "cell_type": "markdown",
   "metadata": {
    "slideshow": {
     "slide_type": "slide"
    }
   },
   "source": [
    "## Design graph \n",
    "\n",
    "The following diagram represents the design graph of the motor’s selection. The mean speed/thrust (Ωmoy & Tmoy), the max speed/thrust (Ωmax & Tmax) and the battery voltage are assumed to be known here.\n",
    "\n",
    "![DesignGraph](pictures/MotorDesignGraph.png)\n",
    "\n",
    "> **Questions:**\n",
    "* Give the 2 main sizing problems you are able to detect here.\n",
    "* Propose one or multiple solutions (which can request equation manipulation, addition of design variables, addition of constraints) \n",
    "* Orientate the arrows and write equations order, inputs/outputs at each step of this part of sizing procedure, additional constraints\n"
   ]
  },
  {
   "cell_type": "markdown",
   "metadata": {},
   "source": [
    "### Sizing code and optimization\n",
    "\n",
    "> Exercice: propose a sizing code for the selection of a motor.\n"
   ]
  },
  {
   "cell_type": "code",
   "execution_count": 1,
   "metadata": {},
   "outputs": [],
   "source": [
    "from utils.model_standard import CoreModel\n",
    "from utils.model_serializer import ModelSerializer"
   ]
  },
  {
   "cell_type": "code",
   "execution_count": 2,
   "metadata": {},
   "outputs": [],
   "source": [
    "class MotorModel(CoreModel):\n",
    "    \"\"\"\n",
    "    Motor model class.\n",
    "    ----------\n",
    "    \"\"\"\n",
    "\n",
    "    def initialization(self):\n",
    "        \n",
    "        # Input variables      \n",
    "        self.add_input('k_mot', value=1.0, unit='-', comment='Oversizing coefficient (torque) for the motor')\n",
    "        self.add_input('k_speed_mot', value=1.0, unit='-', comment='Adaptation coefficient for the K evaluation (>1)')\n",
    "        self.add_input('U_bat_est', value=4.0, unit='V', comment='Battery voltage value (estimation)')\n",
    "        self.add_input('T_pro_to', value=1.0, unit='N.m', comment='Propeller Torque during takeoff')\n",
    "        self.add_input('Omega_pro_to', value=1.0, unit='rad/s', comment='Propeller speed during takeoff')\n",
    "        self.add_input('T_pro_hov', value=1.0, unit='N.m', comment='Propeller Torque during hover')\n",
    "        self.add_input('Omega_pro_hov', value=1.0, unit='rad/s', comment='Propeller speed during hover')\n",
    "                \n",
    "        # Input parameters\n",
    "        \n",
    "        # Motor reference\n",
    "        # Ref : AXI 5325/16 GOLD LINE\n",
    "        T_nom_mot_ref = 2.32  # [N.m] rated torque\n",
    "        T_max_mot_ref = 85./70.*T_nom_mot_ref # [N.m] max torque\n",
    "        R_mot_ref = 0.03  # [Ohm] resistance\n",
    "        M_mot_ref = 0.575 # [kg] mass\n",
    "        K_mot_ref = 0.03 # [N.m/A] torque coefficient\n",
    "        T_mot_fr_ref = 0.03 # [N.m] friction torque (zero load, nominal speed)\n",
    "        \n",
    "        self.add_input('T_nom_mot_ref', value=T_nom_mot_ref, unit='N.m', comment='Rated torque')\n",
    "        self.add_input('T_max_mot_ref', value=T_max_mot_ref, unit='N.m', comment='Max torque')\n",
    "        self.add_input('R_mot_ref', value=R_mot_ref, unit='Ohm', comment='Resistance')\n",
    "        self.add_input('M_mot_ref', value=M_mot_ref, unit='kg', comment='Mass')\n",
    "        self.add_input('K_mot_ref', value=K_mot_ref, unit='N.m/A', comment='Torque coefficient')\n",
    "        self.add_input('T_mot_fr_ref', value=T_mot_fr_ref, unit='N.m', comment='Friction torque (zero load, nominal speed)')\n",
    "               \n",
    "        # Declare outputs        \n",
    "        self.add_output('T_nom_mot', unit='N.m', comment='Continuous of the selected motor torque')\n",
    "        self.add_output('T_max_mot', unit='N.m', comment='Max torque possible of the selected motor')\n",
    "        self.add_output('R_mot', unit='Ohm', comment='Resistance of the selected motor')\n",
    "        self.add_output('M_mot', unit='kg', comment='Mass of the selected motor')\n",
    "        self.add_output('K_mot', unit='rad/s', comment='Torque constant of the selected motor')\n",
    "        self.add_output('T_mot_fr', unit='N.m', comment='Friction torque of the selected motor')\n",
    "        self.add_output('I_mot_hov', unit='A', comment='Motor current for hover')\n",
    "        self.add_output('U_mot_hov', unit='V', comment='Motor voltage for hover')\n",
    "        self.add_output('P_el_mot_hov', unit='W', comment='Motor electrical power for hover')\n",
    "        self.add_output('I_mot_to', unit='A', comment='Motor current for takeoff')\n",
    "        self.add_output('U_mot_to', unit='V', comment='Motor voltage for takeoff')\n",
    "        self.add_output('P_el_mot_to', unit='W', comment='Motor electrical power for takeoff')\n",
    "\n",
    "    def computation_script(self):\n",
    "        p = self.parameters \n",
    "        \n",
    "        # Selection of motor with hover scenario\n",
    "        p['T_nom_mot'] = p['k_mot'] * p['T_pro_hov']   # [N.m] Motor nominal torque per propeller\n",
    "\n",
    "        p['M_mot'] = p['M_mot_ref'] * (p['T_nom_mot']/p['T_nom_mot_ref'])**(3./3.5) # [kg] Motor mass\n",
    "\n",
    "        # Selection with take-off speed\n",
    "        p['K_mot'] = p['U_bat_est'] / (p['k_speed_mot']*p['Omega_pro_to']) # [N.m/A] or [V/(rad/s)] Kt motor\n",
    "        \n",
    "        p['R_mot'] = p['R_mot_ref'] * (p['T_nom_mot']/p['T_nom_mot_ref'])**(-5./3.5)*(p['K_mot']/p['K_mot_ref'])**2.  # [Ohm] motor resistance\n",
    "        p['T_mot_fr'] = p['T_mot_fr_ref'] * (p['T_nom_mot']/p['T_nom_mot_ref'])**(3./3.5) # [N.m] Friction torque\n",
    "        p['T_max_mot'] = p['T_max_mot_ref'] * (p['T_nom_mot']/p['T_nom_mot_ref'])\n",
    "        \n",
    "        # Hover current and voltage\n",
    "        p['I_mot_hov'] = (p['T_pro_hov']+p['T_mot_fr']) / p['K_mot'] # [I] Current of the motor per propeller\n",
    "        p['U_mot_hov'] = p['R_mot']*p['I_mot_hov'] + p['Omega_pro_hov']*p['K_mot'] # [V] Voltage of the motor per propeller\n",
    "        p['P_el_mot_hov'] = p['U_mot_hov']*p['I_mot_hov'] # [W] Hover : electrical power\n",
    "\n",
    "        # Takeoff current and voltage\n",
    "        p['I_mot_to'] = (p['T_pro_to']+p['T_mot_fr']) / p['K_mot'] # [I] Current of the motor per propeller\n",
    "        p['U_mot_to'] = p['R_mot']*p['I_mot_to'] + p['Omega_pro_to']*p['K_mot'] # [V] Voltage of the motor per propeller\n",
    "        p['P_el_mot_to'] = p['U_mot_to']*p['I_mot_to'] # [W] Takeoff : electrical power"
   ]
  },
  {
   "cell_type": "code",
   "execution_count": 3,
   "metadata": {},
   "outputs": [
    {
     "data": {
      "application/vnd.jupyter.widget-view+json": {
       "model_id": "d10dad26e2ec419a895bad9ba5a99efe",
       "version_major": 2,
       "version_minor": 0
      },
      "text/plain": [
       "interactive(children=(Dropdown(description='Component', options=('motor',), value='motor'), Output()), _dom_cl…"
      ]
     },
     "metadata": {},
     "output_type": "display_data"
    }
   ],
   "source": [
    "motor_model = MotorModel('motor')\n",
    "motor_model.initialization()\n",
    "\n",
    "motor_model.print_variables()\n",
    "\n",
    "ms = ModelSerializer()\n",
    "path = './models/'\n",
    "file_name = 'motor_model'\n",
    "ms.save_model(motor_model, path + file_name)"
   ]
  },
  {
   "cell_type": "code",
   "execution_count": 4,
   "metadata": {},
   "outputs": [
    {
     "data": {
      "application/vnd.jupyter.widget-view+json": {
       "model_id": "c028ebc0237c4448bdc3b16477234d9c",
       "version_major": 2,
       "version_minor": 0
      },
      "text/plain": [
       "interactive(children=(Dropdown(description='Component', options=('motor',), value='motor'), Output()), _dom_cl…"
      ]
     },
     "metadata": {},
     "output_type": "display_data"
    }
   ],
   "source": [
    "inputs = {'T_pro_hov': 2.0}\n",
    "\n",
    "motor_model.compute(inputs)\n",
    "\n",
    "motor_model.print_variables()"
   ]
  },
  {
   "cell_type": "code",
   "execution_count": null,
   "metadata": {},
   "outputs": [],
   "source": []
  }
 ],
 "metadata": {
  "kernelspec": {
   "display_name": "Python 3",
   "language": "python",
   "name": "python3"
  },
  "language_info": {
   "codemirror_mode": {
    "name": "ipython",
    "version": 3
   },
   "file_extension": ".py",
   "mimetype": "text/x-python",
   "name": "python",
   "nbconvert_exporter": "python",
   "pygments_lexer": "ipython3",
   "version": "3.6.5"
  }
 },
 "nbformat": 4,
 "nbformat_minor": 2
}
