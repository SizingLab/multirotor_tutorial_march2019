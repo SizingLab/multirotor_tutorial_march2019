{
 "cells": [
  {
   "cell_type": "markdown",
   "metadata": {
    "slideshow": {
     "slide_type": "slide"
    }
   },
   "source": [
    "<img src=\"./pictures/logo_sizinglab.png\" style=\"float:right; max-width: 60px; display: inline\" alt=\"SizingLab\" /></a>"
   ]
  },
  {
   "cell_type": "markdown",
   "metadata": {
    "slideshow": {
     "slide_type": "slide"
    }
   },
   "source": [
    "# Frame selection\n",
    "*Written by Marc Budinger (INSA Toulouse) and Scott Delbecq (ISAE-SUPAERO), Toulouse, France.*"
   ]
  },
  {
   "cell_type": "markdown",
   "metadata": {
    "slideshow": {
     "slide_type": "slide"
    }
   },
   "source": [
    "## Design graph \n",
    "\n",
    "The following diagram represents the design graph of the frame selection. \n",
    "\n",
    "\n",
    "![DesignGraph](pictures/FrameDesignGraph.png)\n",
    "\n",
    "> **Questions:**\n",
    "* Give the main sizing problems you are able to detect.\n",
    "* Propose one or multiple solutions (which can request equation manipulation, addition of design variables, addition of constraints) \n",
    "* Orientate the arrows\n",
    "* Give equations order, inputs/outputs at each step of this part of sizing procedure\n",
    "\n"
   ]
  },
  {
   "cell_type": "markdown",
   "metadata": {},
   "source": [
    "### Sizing code and optimization\n",
    "\n",
    "> Exercice: propose a sizing code for the selection of the frame.\n"
   ]
  },
  {
   "cell_type": "code",
   "execution_count": 1,
   "metadata": {},
   "outputs": [],
   "source": [
    "from utils.model_standard import CoreModel\n",
    "from utils.model_serializer import ModelSerializer"
   ]
  },
  {
   "cell_type": "code",
   "execution_count": 2,
   "metadata": {},
   "outputs": [],
   "source": [
    "import math\n",
    "from math import pi\n",
    "import scipy\n",
    "\n",
    "class FrameModel(CoreModel):\n",
    "    \"\"\"\n",
    "    Frame model class.\n",
    "    ----------\n",
    "    \"\"\"\n",
    "    \n",
    "    def initialization(self):\n",
    "        \n",
    "        # Input variables\n",
    "        # ---------------\n",
    "        # Narm [-] Arms number\n",
    "        # Dpro [m] Propeller diameter \n",
    "        # Np_arm [-] Number of propellers per arm (1 or 2)\n",
    "        # Tpro_takeoff [N] Thrust for one propeller during take off\n",
    "        # k_frame [-] ratio thickness e of tube / diameter of tube\n",
    "        \n",
    "        self.add_input('N_arm', value=4.0, unit='-', comment='Number of arms')\n",
    "        self.add_input('D_pro', value=0.3, unit='m', comment='Propeller diameter')\n",
    "        self.add_input('N_pro_arm', value=1.0, unit='-', comment='Number of propellers per arm (1 or 2)')\n",
    "        self.add_input('F_pro_to', value=1.0, unit='N', comment='Thrust for one propeller during take off')\n",
    "        self.add_input('k_D', value=0.1, unit='N', comment='Ratio thickness / outer diameter of tube')\n",
    "        \n",
    "        # Input parameters\n",
    "        \n",
    "        # Static stress\n",
    "        # sigma_max=200e6/4 # [Pa] Alu max stress (2 reduction for dynamic, 2 reduction for stress concentration)\n",
    "        sigma_max = 280e6/4. # [Pa] Composite max stress (2 reduction for dynamic, 2 reduction for stress concentration)\n",
    "        # rho_s = 2700. # [kg/m3] Volumic mass of aluminum\n",
    "        rho_s = 1700. # [kg/m3] Volumic mass of aluminum\n",
    "        \n",
    "        self.add_input('sigma_max', value=sigma_max, unit='Pa', comment='Max admisible stress')\n",
    "        self.add_input('rho_s', value=rho_s, unit='kg/m3', comment='Volumic mass of structure')\n",
    "        \n",
    "        # Declare outputs\n",
    "        self.add_output('alpha_sep', unit='rad', comment='Interior angle separation between propellers')\n",
    "        self.add_output('L_arm', unit='m', comment='Length of the arm')\n",
    "        self.add_output('D_out_arm', unit='m', comment='Outer diameter of the arm (tube)')\n",
    "        self.add_output('D_in_arm', unit='m', comment='Inner diameter of the arm (tube)')\n",
    "        self.add_output('e_arm', unit='m', comment='Thickness of the arm (tube)')\n",
    "        self.add_output('M_arm', unit='kg', comment='Arm mass')\n",
    "        self.add_output('M_frame', unit='kg', comment='Frame mass')\n",
    "\n",
    "    def computation_script(self):\n",
    "        p = self.parameters\n",
    "        \n",
    "        # Inputs\n",
    "        N_arm = p['N_arm']\n",
    "        D_pro = p['D_pro']\n",
    "        F_pro_to = p['F_pro_to']\n",
    "        N_pro_arm = p['N_pro_arm']\n",
    "        sigma_max = p['sigma_max']\n",
    "        k_D = p['k_D']\n",
    "        rho_s = p['rho_s']\n",
    "        \n",
    "        # Length calculation   \n",
    "        alpha_sep = 2*pi / N_arm # [rad] interior angle separation between propellers\n",
    "        L_arm = D_pro / (2.*scipy.sin(alpha_sep/2.)) # [m] length of the arm\n",
    "\n",
    "        # Tube diameter & thickness\n",
    "        D_out_arm = (F_pro_to*N_pro_arm/sigma_max*L_arm*32./(pi*(1.-(1.-2.*k_D)**4.)))**(1/3)  # [m] outer diameter of the arm (hollow cylinder)\n",
    "        e_arm = k_D * D_out_arm # [m] thickness of the arm (hollow cylinder) \n",
    "        D_in_arm = D_out_arm - e_arm # [m] inner diameter of the arm (hollow cylinder) \n",
    "        \n",
    "        # Mass\n",
    "        M_arm = pi/4. * (D_out_arm**2.-(D_out_arm-2.*e_arm)**2)*L_arm*rho_s # [kg] mass of the arm (x1) (beams only)  composite\n",
    "        M_frame = N_arm * M_arm / 0.4 # [kg] mass of the frame (40% of total mass is the arms)\n",
    "        \n",
    "        # Outputs\n",
    "        p['alpha_sep'] = alpha_sep\n",
    "        p['L_arm'] = L_arm\n",
    "        p['D_out_arm'] = D_out_arm\n",
    "        p['e_arm'] = e_arm\n",
    "        p['D_in_arm'] = D_in_arm\n",
    "        p['M_arm'] = M_arm\n",
    "        p['M_frame'] = M_frame"
   ]
  },
  {
   "cell_type": "code",
   "execution_count": 3,
   "metadata": {},
   "outputs": [
    {
     "data": {
      "application/vnd.jupyter.widget-view+json": {
       "model_id": "1c2becc94e914c23832bb60e555a6f06",
       "version_major": 2,
       "version_minor": 0
      },
      "text/plain": [
       "interactive(children=(Dropdown(description='Component', options=('frame',), value='frame'), Output()), _dom_cl…"
      ]
     },
     "metadata": {},
     "output_type": "display_data"
    }
   ],
   "source": [
    "frame_model = FrameModel('frame')\n",
    "frame_model.initialization()\n",
    "\n",
    "frame_model.print_variables()\n",
    "\n",
    "ms = ModelSerializer()\n",
    "path = './models/'\n",
    "file_name = 'frame_model'\n",
    "ms.save_model(frame_model, path + file_name)"
   ]
  },
  {
   "cell_type": "code",
   "execution_count": 4,
   "metadata": {},
   "outputs": [
    {
     "data": {
      "application/vnd.jupyter.widget-view+json": {
       "model_id": "a0b7d03cb55d4b1fb95e81e3b27dba40",
       "version_major": 2,
       "version_minor": 0
      },
      "text/plain": [
       "interactive(children=(Dropdown(description='Component', options=('frame',), value='frame'), Output()), _dom_cl…"
      ]
     },
     "metadata": {},
     "output_type": "display_data"
    }
   ],
   "source": [
    "inputs = {'F_pro_to': 25.0}\n",
    "\n",
    "frame_model.compute(inputs)\n",
    "\n",
    "frame_model.print_variables()"
   ]
  },
  {
   "cell_type": "code",
   "execution_count": null,
   "metadata": {},
   "outputs": [],
   "source": []
  }
 ],
 "metadata": {
  "kernelspec": {
   "display_name": "Python 3",
   "language": "python",
   "name": "python3"
  },
  "language_info": {
   "codemirror_mode": {
    "name": "ipython",
    "version": 3
   },
   "file_extension": ".py",
   "mimetype": "text/x-python",
   "name": "python",
   "nbconvert_exporter": "python",
   "pygments_lexer": "ipython3",
   "version": "3.6.5"
  }
 },
 "nbformat": 4,
 "nbformat_minor": 2
}
