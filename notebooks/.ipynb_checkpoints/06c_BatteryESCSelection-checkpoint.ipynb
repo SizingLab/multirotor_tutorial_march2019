{
 "cells": [
  {
   "cell_type": "markdown",
   "metadata": {
    "slideshow": {
     "slide_type": "slide"
    }
   },
   "source": [
    "<img src=\"./pictures/logo_sizinglab.png\" style=\"float:right; max-width: 60px; display: inline\" alt=\"SizingLab\" /></a>"
   ]
  },
  {
   "cell_type": "markdown",
   "metadata": {
    "slideshow": {
     "slide_type": "slide"
    }
   },
   "source": [
    "# Battery and ESC selection\n",
    "*Written by Marc Budinger (INSA Toulouse) and Scott Delbecq (ISAE-SUPAERO), Toulouse, France.*"
   ]
  },
  {
   "cell_type": "markdown",
   "metadata": {
    "slideshow": {
     "slide_type": "slide"
    }
   },
   "source": [
    "## Design graph \n",
    "\n",
    "The following diagram represents the design graph of the battery and ESC selection.\n",
    "\n",
    "\n",
    "![DesignGraph](pictures/ESCBatteryDesignGraph.png)\n",
    "\n",
    "> **Questions:**\n",
    "* Recall the main equations to take into account during ESC and battery selection\n",
    "* Orientate the arrows\n",
    "* Give equations order, inputs/outputs at each step of this part of sizing procedure\n",
    "\n"
   ]
  },
  {
   "cell_type": "markdown",
   "metadata": {},
   "source": [
    "### Sizing code and optimization\n",
    "\n",
    "> Exercice: propose a sizing code for the selection of a battery and ESC.\n"
   ]
  },
  {
   "cell_type": "code",
   "execution_count": 1,
   "metadata": {},
   "outputs": [],
   "source": [
    "from utils.model_standard import CoreModel\n",
    "from utils.model_serializer import ModelSerializer"
   ]
  },
  {
   "cell_type": "code",
   "execution_count": 2,
   "metadata": {},
   "outputs": [],
   "source": [
    "import math\n",
    "class BatteryEscModel(CoreModel):\n",
    "    \"\"\"\n",
    "    Battery and ESC model class.\n",
    "    ----------\n",
    "    \"\"\"\n",
    "    def initialization(self):\n",
    "        \n",
    "        # Input variables\n",
    "        self.add_input('U_bat_est', value=4.0, unit='V', comment='Battery voltage estimation')\n",
    "        self.add_input('k_mb', value=2.0, unit='-', comment='ratio battery mass / Load mass')\n",
    "        self.add_input('M_pay', value=10.0, unit='kg', comment='Payload mass')\n",
    "        self.add_input('P_el_mot_hov', value=10.0, unit='W', comment='Electrical power consumption for one motor during hover')\n",
    "        self.add_input('P_el_mot_to', value=10.0, unit='W', comment='Electrical power consumption for one motor during takeoff')\n",
    "        self.add_input('U_mot_to', value=4.0, unit='V', comment='Motor voltage during takeoff')\n",
    "        self.add_input('N_pro', value=4.0, unit='-', comment='Number of propellers')\n",
    "        \n",
    "        # Input parameters\n",
    "        \n",
    "        # Ref : MK-quadro\n",
    "        M_bat_ref = .329 # [kg] mass\n",
    "        E_bat_ref = 220.*3600.*.329 # [J]\n",
    "        \n",
    "        # Ref : Turnigy K_Force 70HV \n",
    "        P_esc_ref = 3108. # [W] Power\n",
    "        M_esc_ref = .115 # [kg] Mass\n",
    "        \n",
    "        self.add_input('M_bat_ref', value=M_bat_ref, unit='kg', comment='Mass of the reference battery')\n",
    "        self.add_input('E_bat_ref', value=E_bat_ref, unit='J', comment='Energy of the reference battery')\n",
    "        self.add_input('M_esc_ref', value=M_esc_ref, unit='kg', comment='Mass of the reference ESC')\n",
    "        self.add_input('P_esc_ref', value=P_esc_ref, unit='W', comment='Max power of the reference ESC')\n",
    "        \n",
    "        # Declare outputs\n",
    "        self.add_output('N_s_bat', unit='-', comment='Number of battery cells')\n",
    "        self.add_output('U_bat', unit='V', comment='Battery voltage')\n",
    "        self.add_output('M_bat', unit='kg', comment='Battery mass')\n",
    "        self.add_output('E_bat', unit='J', comment='Battery energy')\n",
    "        self.add_output('C_bat', unit='A.s', comment='Capacity of the battery')\n",
    "        self.add_output('I_bat', unit='A', comment='Current of the battery (hover flight)')\n",
    "        self.add_output('t_hov', unit='min', comment='Hovering time')\n",
    "        self.add_output('P_esc', unit='W', comment='Power electronic power (corner power or apparent power)')\n",
    "        self.add_output('M_esc', unit='kg', comment='ESC maass')\n",
    "        self.add_output('V_esc', unit='V', comment='ESC voltage')\n",
    "        \n",
    "    def computation_script(self):\n",
    "        p = self.parameters\n",
    "        \n",
    "        p['N_s_bat'] = math.ceil(p['U_bat_est']/3.7) # [-] Cell number, round (up value)\n",
    "        p['U_bat'] = 3.7 * p['N_s_bat'] # [V] Battery voltage\n",
    "    \n",
    "        p['M_bat'] = p['k_mb'] * p['M_pay'] # [kg] Battery mass\n",
    "    \n",
    "        # Hover --> autonomy\n",
    "        p['E_bat'] = p['E_bat_ref'] * p['M_bat']/p['M_bat_ref']*.8 # [J] Energy  of the battery (.8 coefficient because 80% use only of the total capacity)\n",
    "        p['C_bat'] = p['E_bat']/p['U_bat'] # [A.s] Capacity  of the battery \n",
    "        p['I_bat'] = (p['P_el_mot_hov'] * p['N_pro']) /.95/p['U_bat'] # [A] Current of the battery\n",
    "        p['t_hov'] = p['C_bat']/p['I_bat']/60. # [min] Hover time \n",
    "        \n",
    "        # ESC\n",
    "        p['P_esc'] = p['P_el_mot_to'] * p['U_bat_est'] / p['U_mot_to'] # [W] power electronic power (corner power or apparent power)\n",
    "        p['M_esc'] = p['M_esc_ref'] * (p['P_esc']/p['P_esc_ref']) # [kg] Mass ESC\n",
    "        p['V_esc'] = 1.84 * p['P_esc']**0.36 # [V] ESC voltage        "
   ]
  },
  {
   "cell_type": "code",
   "execution_count": 3,
   "metadata": {},
   "outputs": [
    {
     "data": {
      "application/vnd.jupyter.widget-view+json": {
       "model_id": "575baedbc6ee4afda8abe17ba618ce5d",
       "version_major": 2,
       "version_minor": 0
      },
      "text/plain": [
       "interactive(children=(Dropdown(description='Component', options=('battery_esc',), value='battery_esc'), Output…"
      ]
     },
     "metadata": {},
     "output_type": "display_data"
    }
   ],
   "source": [
    "battery_esc_model = BatteryEscModel('battery_esc')\n",
    "battery_esc_model.initialization()\n",
    "\n",
    "battery_esc_model.print_variables()\n",
    "\n",
    "ms = ModelSerializer()\n",
    "path = './models/'\n",
    "file_name = 'battery_esc_model'\n",
    "ms.save_model(battery_esc_model, path + file_name)"
   ]
  },
  {
   "cell_type": "code",
   "execution_count": 4,
   "metadata": {},
   "outputs": [
    {
     "data": {
      "application/vnd.jupyter.widget-view+json": {
       "model_id": "88737948ac3b421b92c0d87a957b3f31",
       "version_major": 2,
       "version_minor": 0
      },
      "text/plain": [
       "interactive(children=(Dropdown(description='Component', options=('battery_esc',), value='battery_esc'), Output…"
      ]
     },
     "metadata": {},
     "output_type": "display_data"
    }
   ],
   "source": [
    "inputs = {'P_el_mot_to': 25.0}\n",
    "\n",
    "battery_esc_model.compute(inputs)\n",
    "\n",
    "battery_esc_model.print_variables()"
   ]
  },
  {
   "cell_type": "code",
   "execution_count": null,
   "metadata": {},
   "outputs": [],
   "source": []
  }
 ],
 "metadata": {
  "kernelspec": {
   "display_name": "Python 3",
   "language": "python",
   "name": "python3"
  },
  "language_info": {
   "codemirror_mode": {
    "name": "ipython",
    "version": 3
   },
   "file_extension": ".py",
   "mimetype": "text/x-python",
   "name": "python",
   "nbconvert_exporter": "python",
   "pygments_lexer": "ipython3",
   "version": "3.6.5"
  }
 },
 "nbformat": 4,
 "nbformat_minor": 2
}
